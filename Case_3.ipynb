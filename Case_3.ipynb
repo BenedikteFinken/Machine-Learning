{
  "nbformat": 4,
  "nbformat_minor": 0,
  "metadata": {
    "colab": {
      "name": "Case 3",
      "provenance": [],
      "authorship_tag": "ABX9TyO9IJGF9Z/GzcJz1l6ooTpq",
      "include_colab_link": true
    },
    "kernelspec": {
      "name": "python3",
      "display_name": "Python 3"
    }
  },
  "cells": [
    {
      "cell_type": "markdown",
      "metadata": {
        "id": "view-in-github",
        "colab_type": "text"
      },
      "source": [
        "<a href=\"https://colab.research.google.com/github/BenedikteFinken/Machine-Learning/blob/master/Case_3.ipynb\" target=\"_parent\"><img src=\"https://colab.research.google.com/assets/colab-badge.svg\" alt=\"Open In Colab\"/></a>"
      ]
    },
    {
      "cell_type": "code",
      "metadata": {
        "id": "DztNsnX1hotX",
        "colab_type": "code",
        "colab": {}
      },
      "source": [
        "import numpy as np\n",
        "import matplotlib.pyplot as plt\n",
        "import pandas as pd"
      ],
      "execution_count": 0,
      "outputs": []
    },
    {
      "cell_type": "code",
      "metadata": {
        "id": "MYqFHthkhz4o",
        "colab_type": "code",
        "colab": {}
      },
      "source": [
        "dataset = pd.read_csv('Data.csv')\n",
        "X = dataset.iloc[:, :-3].values\n",
        "y = dataset.iloc[:, -3:].values"
      ],
      "execution_count": 0,
      "outputs": []
    },
    {
      "cell_type": "code",
      "metadata": {
        "id": "GVr5n8vVh7mi",
        "colab_type": "code",
        "outputId": "cf881ab2-e034-4a1e-956c-4d5bf6162794",
        "colab": {
          "base_uri": "https://localhost:8080/",
          "height": 175
        }
      },
      "source": [
        "dataset.describe()"
      ],
      "execution_count": 0,
      "outputs": [
        {
          "output_type": "execute_result",
          "data": {
            "text/html": [
              "<div>\n",
              "<style scoped>\n",
              "    .dataframe tbody tr th:only-of-type {\n",
              "        vertical-align: middle;\n",
              "    }\n",
              "\n",
              "    .dataframe tbody tr th {\n",
              "        vertical-align: top;\n",
              "    }\n",
              "\n",
              "    .dataframe thead th {\n",
              "        text-align: right;\n",
              "    }\n",
              "</style>\n",
              "<table border=\"1\" class=\"dataframe\">\n",
              "  <thead>\n",
              "    <tr style=\"text-align: right;\">\n",
              "      <th></th>\n",
              "      <th>col1;col2;col3;col4;label1;label2;label3</th>\n",
              "    </tr>\n",
              "  </thead>\n",
              "  <tbody>\n",
              "    <tr>\n",
              "      <th>count</th>\n",
              "      <td>1000</td>\n",
              "    </tr>\n",
              "    <tr>\n",
              "      <th>unique</th>\n",
              "      <td>996</td>\n",
              "    </tr>\n",
              "    <tr>\n",
              "      <th>top</th>\n",
              "      <td>63723E+15;category_2</td>\n",
              "    </tr>\n",
              "    <tr>\n",
              "      <th>freq</th>\n",
              "      <td>2</td>\n",
              "    </tr>\n",
              "  </tbody>\n",
              "</table>\n",
              "</div>"
            ],
            "text/plain": [
              "       col1;col2;col3;col4;label1;label2;label3\n",
              "count                                      1000\n",
              "unique                                      996\n",
              "top                        63723E+15;category_2\n",
              "freq                                          2"
            ]
          },
          "metadata": {
            "tags": []
          },
          "execution_count": 3
        }
      ]
    },
    {
      "cell_type": "code",
      "metadata": {
        "id": "4M2-g7g_h9z-",
        "colab_type": "code",
        "outputId": "778fb919-43f1-49c1-d182-92b238ca07d0",
        "colab": {
          "base_uri": "https://localhost:8080/",
          "height": 274
        }
      },
      "source": [
        "print(dataset)"
      ],
      "execution_count": 0,
      "outputs": [
        {
          "output_type": "stream",
          "text": [
            "                                                        col1;col2;col3;col4;label1;label2;label3\n",
            "-1 0426E+16;8  48727E+15;4 35947E+15;-4 62E+16;-10;5                        96545E+15;category_2\n",
            "   12768E+16;2 6603E+15;2  73127E+16;3  43852E+16;-10;6                     55951E+15;category_2\n",
            "-8 43811E+15;2 54257E+16;4 41366E+14;1  54452E+16;10;8                      92635E+15;category_2\n",
            "-2 47289E+16;2 25278E+16;1 21361E+16;6  65552E+15;-10;6                     50176E+15;category_2\n",
            "-7 44405E+15;2 52957E+16;6 44706E+16;1  03031E+16;10;9                      29432E+15;category_3\n",
            "...                                                                                          ...\n",
            "-2 36265E+16;2 01975E+14;5 2825E+15;1   47319E+15;10;1                      26301E+16;category_3\n",
            "   25515E+16;2 54957E+16;3 62153E+15;-1 42411E+15;10;8                      63492E+15;category_2\n",
            "-1 14056E+16;1 13269E+15;2 05333E+16;6  80928E+14;-10;5                     71883E+15;category_2\n",
            "   1832E+15;1  05338E+14;4 24594E+15;9  11168E+15;10;7                      56757E+16;category_2\n",
            "-2 10727E+16;1 76062E+16;4 85069E+16;7  63797E+15;10;1                       0319E+15;category_3\n",
            "\n",
            "[1000 rows x 1 columns]\n"
          ],
          "name": "stdout"
        }
      ]
    },
    {
      "cell_type": "code",
      "metadata": {
        "id": "aw-gTAW1iBOP",
        "colab_type": "code",
        "outputId": "8a406af6-a15e-40ca-c05b-add70aeec304",
        "colab": {
          "base_uri": "https://localhost:8080/",
          "height": 206
        }
      },
      "source": [
        "dataset.head()"
      ],
      "execution_count": 0,
      "outputs": [
        {
          "output_type": "execute_result",
          "data": {
            "text/html": [
              "<div>\n",
              "<style scoped>\n",
              "    .dataframe tbody tr th:only-of-type {\n",
              "        vertical-align: middle;\n",
              "    }\n",
              "\n",
              "    .dataframe tbody tr th {\n",
              "        vertical-align: top;\n",
              "    }\n",
              "\n",
              "    .dataframe thead th {\n",
              "        text-align: right;\n",
              "    }\n",
              "</style>\n",
              "<table border=\"1\" class=\"dataframe\">\n",
              "  <thead>\n",
              "    <tr style=\"text-align: right;\">\n",
              "      <th></th>\n",
              "      <th></th>\n",
              "      <th></th>\n",
              "      <th></th>\n",
              "      <th></th>\n",
              "      <th>col1;col2;col3;col4;label1;label2;label3</th>\n",
              "    </tr>\n",
              "  </thead>\n",
              "  <tbody>\n",
              "    <tr>\n",
              "      <th rowspan=\"2\" valign=\"top\">-1</th>\n",
              "      <th>0426E+16;8</th>\n",
              "      <th>48727E+15;4</th>\n",
              "      <th>35947E+15;-4</th>\n",
              "      <th>62E+16;-10;5</th>\n",
              "      <td>96545E+15;category_2</td>\n",
              "    </tr>\n",
              "    <tr>\n",
              "      <th>12768E+16;2</th>\n",
              "      <th>6603E+15;2</th>\n",
              "      <th>73127E+16;3</th>\n",
              "      <th>43852E+16;-10;6</th>\n",
              "      <td>55951E+15;category_2</td>\n",
              "    </tr>\n",
              "    <tr>\n",
              "      <th>-8</th>\n",
              "      <th>43811E+15;2</th>\n",
              "      <th>54257E+16;4</th>\n",
              "      <th>41366E+14;1</th>\n",
              "      <th>54452E+16;10;8</th>\n",
              "      <td>92635E+15;category_2</td>\n",
              "    </tr>\n",
              "    <tr>\n",
              "      <th>-2</th>\n",
              "      <th>47289E+16;2</th>\n",
              "      <th>25278E+16;1</th>\n",
              "      <th>21361E+16;6</th>\n",
              "      <th>65552E+15;-10;6</th>\n",
              "      <td>50176E+15;category_2</td>\n",
              "    </tr>\n",
              "    <tr>\n",
              "      <th>-7</th>\n",
              "      <th>44405E+15;2</th>\n",
              "      <th>52957E+16;6</th>\n",
              "      <th>44706E+16;1</th>\n",
              "      <th>03031E+16;10;9</th>\n",
              "      <td>29432E+15;category_3</td>\n",
              "    </tr>\n",
              "  </tbody>\n",
              "</table>\n",
              "</div>"
            ],
            "text/plain": [
              "                                                        col1;col2;col3;col4;label1;label2;label3\n",
              "-1 0426E+16;8  48727E+15;4 35947E+15;-4 62E+16;-10;5                        96545E+15;category_2\n",
              "   12768E+16;2 6603E+15;2  73127E+16;3  43852E+16;-10;6                     55951E+15;category_2\n",
              "-8 43811E+15;2 54257E+16;4 41366E+14;1  54452E+16;10;8                      92635E+15;category_2\n",
              "-2 47289E+16;2 25278E+16;1 21361E+16;6  65552E+15;-10;6                     50176E+15;category_2\n",
              "-7 44405E+15;2 52957E+16;6 44706E+16;1  03031E+16;10;9                      29432E+15;category_3"
            ]
          },
          "metadata": {
            "tags": []
          },
          "execution_count": 5
        }
      ]
    },
    {
      "cell_type": "code",
      "metadata": {
        "id": "fJXmDkMaid9X",
        "colab_type": "code",
        "colab": {}
      },
      "source": [
        ""
      ],
      "execution_count": 0,
      "outputs": []
    }
  ]
}